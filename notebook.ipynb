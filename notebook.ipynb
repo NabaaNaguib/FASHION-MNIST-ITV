{
 "cells": [
  {
   "cell_type": "code",
   "execution_count": 3,
   "metadata": {},
   "outputs": [
    {
     "name": "stdout",
     "output_type": "stream",
     "text": [
      "Requirement already satisfied: idx2numpy in c:\\python312\\lib\\site-packages (1.2.3)\n",
      "Requirement already satisfied: numpy in c:\\python312\\lib\\site-packages (from idx2numpy) (1.26.2)\n",
      "Requirement already satisfied: six in c:\\python312\\lib\\site-packages (from idx2numpy) (1.16.0)\n"
     ]
    },
    {
     "name": "stderr",
     "output_type": "stream",
     "text": [
      "\n",
      "[notice] A new release of pip is available: 23.2.1 -> 23.3.1\n",
      "[notice] To update, run: python.exe -m pip install --upgrade pip\n"
     ]
    }
   ],
   "source": [
    "!pip install idx2numpy"
   ]
  },
  {
   "cell_type": "code",
   "execution_count": 5,
   "metadata": {},
   "outputs": [
    {
     "ename": "ModuleNotFoundError",
     "evalue": "No module named 'idx2numpy'",
     "output_type": "error",
     "traceback": [
      "\u001b[1;31m---------------------------------------------------------------------------\u001b[0m",
      "\u001b[1;31mModuleNotFoundError\u001b[0m                       Traceback (most recent call last)",
      "\u001b[1;32md:\\Tasks & Internships material\\IT Visionary\\Fashion MNIST DNN Task\\notebook.ipynb Cell 2\u001b[0m line \u001b[0;36m1\n\u001b[1;32m----> <a href='vscode-notebook-cell:/d%3A/Tasks%20%26%20Internships%20material/IT%20Visionary/Fashion%20MNIST%20DNN%20Task/notebook.ipynb#W1sZmlsZQ%3D%3D?line=0'>1</a>\u001b[0m \u001b[39mimport\u001b[39;00m \u001b[39midx2numpy\u001b[39;00m\n\u001b[0;32m      <a href='vscode-notebook-cell:/d%3A/Tasks%20%26%20Internships%20material/IT%20Visionary/Fashion%20MNIST%20DNN%20Task/notebook.ipynb#W1sZmlsZQ%3D%3D?line=1'>2</a>\u001b[0m \u001b[39mimport\u001b[39;00m \u001b[39mpandas\u001b[39;00m \u001b[39mas\u001b[39;00m \u001b[39mpd\u001b[39;00m\n",
      "\u001b[1;31mModuleNotFoundError\u001b[0m: No module named 'idx2numpy'"
     ]
    }
   ],
   "source": [
    "import idx2numpy\n",
    "import pandas as pd\n"
   ]
  },
  {
   "cell_type": "code",
   "execution_count": 1,
   "metadata": {},
   "outputs": [],
   "source": [
    "# Loading the training and testing data from CSV files:\n",
    "train_data = pd.read_csv(\"D:/Tasks & Internships material/IT Visionary/Fashion MNIST DNN Task/archive/fashion-mnist_train.csv\")\n",
    "test_data = pd.read_csv(\"D:/Tasks & Internships material/IT Visionary/Fashion MNIST DNN Task/archive/fashion-mnist_test.csv\")\n",
    "\n",
    "# Separating labels and pixel values:\n",
    "X_train, y_train = train_data.iloc[:, 1:].values, train_data.iloc[:, 0].values\n",
    "X_test, y_test = test_data.iloc[:, 1:].values, test_data.iloc[:, 0].values\n"
   ]
  },
  {
   "cell_type": "code",
   "execution_count": 2,
   "metadata": {},
   "outputs": [
    {
     "ename": "NameError",
     "evalue": "name 'idx2numpy' is not defined",
     "output_type": "error",
     "traceback": [
      "\u001b[1;31m---------------------------------------------------------------------------\u001b[0m",
      "\u001b[1;31mNameError\u001b[0m                                 Traceback (most recent call last)",
      "\u001b[1;32md:\\Tasks & Internships material\\IT Visionary\\Fashion MNIST DNN Task\\notebook.ipynb Cell 2\u001b[0m line \u001b[0;36m2\n\u001b[0;32m      <a href='vscode-notebook-cell:/d%3A/Tasks%20%26%20Internships%20material/IT%20Visionary/Fashion%20MNIST%20DNN%20Task/notebook.ipynb#W1sZmlsZQ%3D%3D?line=0'>1</a>\u001b[0m \u001b[39m# Loading the training and testing images from IDX files:\u001b[39;00m\n\u001b[1;32m----> <a href='vscode-notebook-cell:/d%3A/Tasks%20%26%20Internships%20material/IT%20Visionary/Fashion%20MNIST%20DNN%20Task/notebook.ipynb#W1sZmlsZQ%3D%3D?line=1'>2</a>\u001b[0m X_train_idx \u001b[39m=\u001b[39m idx2numpy\u001b[39m.\u001b[39mconvert_from_file(\u001b[39m'\u001b[39m\u001b[39mpath/to/train-images-idx3-ubyte\u001b[39m\u001b[39m'\u001b[39m)\n\u001b[0;32m      <a href='vscode-notebook-cell:/d%3A/Tasks%20%26%20Internships%20material/IT%20Visionary/Fashion%20MNIST%20DNN%20Task/notebook.ipynb#W1sZmlsZQ%3D%3D?line=2'>3</a>\u001b[0m y_train_idx \u001b[39m=\u001b[39m idx2numpy\u001b[39m.\u001b[39mconvert_from_file(\u001b[39m'\u001b[39m\u001b[39mpath/to/train-labels-idx1-ubyte\u001b[39m\u001b[39m'\u001b[39m)\n\u001b[0;32m      <a href='vscode-notebook-cell:/d%3A/Tasks%20%26%20Internships%20material/IT%20Visionary/Fashion%20MNIST%20DNN%20Task/notebook.ipynb#W1sZmlsZQ%3D%3D?line=3'>4</a>\u001b[0m X_test_idx \u001b[39m=\u001b[39m idx2numpy\u001b[39m.\u001b[39mconvert_from_file(\u001b[39m'\u001b[39m\u001b[39mpath/to/t10k-images-idx3-ubyte\u001b[39m\u001b[39m'\u001b[39m)\n",
      "\u001b[1;31mNameError\u001b[0m: name 'idx2numpy' is not defined"
     ]
    }
   ],
   "source": [
    "# Loading the training and testing images from IDX files:\n",
    "X_train_idx = idx2numpy.convert_from_file('path/to/train-images-idx3-ubyte')\n",
    "y_train_idx = idx2numpy.convert_from_file('path/to/train-labels-idx1-ubyte')\n",
    "X_test_idx = idx2numpy.convert_from_file('path/to/t10k-images-idx3-ubyte')\n",
    "y_test_idx = idx2numpy.convert_from_file('path/to/t10k-labels-idx1-ubyte')"
   ]
  },
  {
   "cell_type": "code",
   "execution_count": null,
   "metadata": {},
   "outputs": [],
   "source": []
  }
 ],
 "metadata": {
  "kernelspec": {
   "display_name": "Python 3",
   "language": "python",
   "name": "python3"
  },
  "language_info": {
   "codemirror_mode": {
    "name": "ipython",
    "version": 3
   },
   "file_extension": ".py",
   "mimetype": "text/x-python",
   "name": "python",
   "nbconvert_exporter": "python",
   "pygments_lexer": "ipython3",
   "version": "3.9.9"
  }
 },
 "nbformat": 4,
 "nbformat_minor": 2
}
